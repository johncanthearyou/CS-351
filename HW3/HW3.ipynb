{
 "cells": [
  {
   "cell_type": "code",
   "execution_count": 1,
   "metadata": {},
   "outputs": [
    {
     "name": "stdout",
     "output_type": "stream",
     "text": [
      "Overwriting count_words_bigrams.py\n"
     ]
    }
   ],
   "source": [
    "%%file count_words_bigrams.py\n",
    "# John Stockton\n",
    "# CS-351\n",
    "# Wang\n",
    "# Winter 2022\n",
    "\n",
    "from mrjob.job import MRJob\n",
    "\n",
    "# TODO: Document...\n",
    "class MRMostUsedWord(MRJob):\n",
    "\n",
    "    def mapper(self, _, line):\n",
    "        # Scrub the line for invalid characters\n",
    "        scrubbedLine = ''\n",
    "        for char in line: \n",
    "            if char.isalpha() or char.isspace():\n",
    "                scrubbedLine += char.upper()\n",
    "            else: \n",
    "                scrubbedLine += ' '\n",
    "        # Split our string into individual words\n",
    "        words = scrubbedLine.split()\n",
    "        finalIdx = len(words)-1\n",
    "        for i in range(len(words)-1):\n",
    "            yield words[i], 1              # yield the current word\n",
    "            yield (words[i],words[i+1]), 1 # yield current and next words\n",
    "        yield words[finalIdx], 1\n",
    "\n",
    "    def combiner(self, key, values):\n",
    "        yield key, sum(values)\n",
    "\n",
    "    def reducer(self, key, values):\n",
    "        yield key, sum(values)\n",
    "\n",
    "# TODO: Document...\n",
    "if __name__ == '__main__':\n",
    "    MRMostUsedWord.run()"
   ]
  },
  {
   "cell_type": "code",
   "execution_count": 2,
   "metadata": {},
   "outputs": [
    {
     "name": "stdout",
     "output_type": "stream",
     "text": [
      "Using configs in /Users/johnstocktoniv/.mrjob.conf\n",
      "No configs specified for inline runner\n",
      "Creating temp directory /var/folders/5s/hq_d6y217wb9tt3p5v4_25cw0000gn/T/conditional_word.johnstocktoniv.20220309.140648.522013\n",
      "Running step 1 of 1...\n",
      "reading from STDIN\n",
      "job output is in /var/folders/5s/hq_d6y217wb9tt3p5v4_25cw0000gn/T/conditional_word.johnstocktoniv.20220309.140648.522013/output\n",
      "Streaming final output from /var/folders/5s/hq_d6y217wb9tt3p5v4_25cw0000gn/T/conditional_word.johnstocktoniv.20220309.140648.522013/output...\n",
      "Removing temp directory /var/folders/5s/hq_d6y217wb9tt3p5v4_25cw0000gn/T/conditional_word.johnstocktoniv.20220309.140648.522013...\n"
     ]
    }
   ],
   "source": [
    "!python conditional_word.py < test.csv > test_out/result.txt"
   ]
  },
  {
   "cell_type": "code",
   "execution_count": 3,
   "metadata": {},
   "outputs": [
    {
     "name": "stdout",
     "output_type": "stream",
     "text": [
      "Overwriting cond_prob.py\n"
     ]
    }
   ],
   "source": [
    "%%file cond_prob.py\n",
    "# John Stockton\n",
    "# CS-351\n",
    "# Wang\n",
    "# Winter 2022\n",
    "\n",
    "from sys import argv\n",
    "import re\n",
    "\n",
    "# TODO: Document...\n",
    "class node:\n",
    "    def __init__(self,word=None,count=None,next=None):\n",
    "        self.word  = word\n",
    "        self.count = count\n",
    "        self.next  = next\n",
    "    def set_data(self,word,count):\n",
    "        self.word = word\n",
    "        self.count = count\n",
    "    def set_next(self,node):\n",
    "        self.next = node\n",
    "    def get_count(self,word):\n",
    "        curr = self\n",
    "        while curr.next!=None:\n",
    "            if word==curr.word:\n",
    "                return curr.count\n",
    "            curr = curr.next\n",
    "        return 0\n",
    "\n",
    "# TODO: Document...\n",
    "def main(inputName, outputName):\n",
    "    inFile = open(inputName, 'r')\n",
    "    outFile = open(outputName, 'w+')\n",
    "\n",
    "    lines = inFile.readlines()\n",
    "    words = []\n",
    "    bigrams = []\n",
    "    for line in lines:\n",
    "        tokens = re.findall('[a-zA-Z0-9]+', line)\n",
    "        if len(tokens)==2:\n",
    "            words += [tokens]\n",
    "        else:\n",
    "            bigrams += [tokens]\n",
    "\n",
    "    list = node()\n",
    "    curr = list\n",
    "    for word in words:\n",
    "        curr.set_data(word[0],int(word[1]))\n",
    "        curr.set_next(node())\n",
    "        curr = curr.next\n",
    "\n",
    "    for bigram in bigrams:\n",
    "        prob = int(bigram[2])/list.get_count(bigram[0])\n",
    "        prob = round(prob,3)\n",
    "        bigram = f\"P({bigram[1]} | {bigram[0]}) ~= {prob}\\n\"\n",
    "        outFile.write(bigram)\n",
    "        \n",
    "# TODO: Document...\n",
    "if __name__=='__main__':\n",
    "    main(argv[1],argv[2])"
   ]
  },
  {
   "cell_type": "code",
   "execution_count": 4,
   "metadata": {},
   "outputs": [],
   "source": [
    "!python cond_prob.py test_out/result.txt test_out/conditional.txt"
   ]
  },
  {
   "cell_type": "code",
   "execution_count": 5,
   "metadata": {},
   "outputs": [
    {
     "name": "stdout",
     "output_type": "stream",
     "text": [
      "Overwriting top_words.py\n"
     ]
    }
   ],
   "source": [
    "%%file top_words.py\n",
    "# John Stockton\n",
    "# CS-351\n",
    "# Wang\n",
    "# Winter 2022\n",
    "\n",
    "from sys import argv\n",
    "import re\n",
    "\n",
    "def find_max(words):\n",
    "    num_words = int(len(words)/2)\n",
    "    max = \"\",0\n",
    "    maxIdx = 0\n",
    "    for i in range(num_words):\n",
    "        curr_word = words[2*i]\n",
    "        curr_word_count = int(words[2*i+1])\n",
    "        if int(curr_word_count)>max[1]:\n",
    "            max = curr_word,curr_word_count\n",
    "            maxIdx = 2*i\n",
    "    # We found the max, delete it from list\n",
    "    words[maxIdx] = \"\"\n",
    "    words[maxIdx+1] = 0\n",
    "    return max\n",
    "\n",
    "def get_top_words(words, mys, num):\n",
    "    top_words = []\n",
    "    for i in range(0,num):\n",
    "        top_words += find_max(words)\n",
    "        curr_count = int(top_words[2*i+1])\n",
    "        top_words[2*i+1] = round(curr_count/mys,3)\n",
    "    return top_words\n",
    "\n",
    "# TODO: Document...\n",
    "def main(inputName, outputName):\n",
    "    inFile = open(inputName, 'r')\n",
    "    outFile = open(outputName, 'w+')\n",
    "\n",
    "    lines = inFile.readlines()\n",
    "    num_my = 0\n",
    "    after_my = []\n",
    "    for line in lines:\n",
    "        tokens = re.findall('[a-zA-Z0-9]+', line)\n",
    "        if tokens[0]=='MY':\n",
    "            if len(tokens)==2:\n",
    "                num_my = int(tokens[1])\n",
    "            else:\n",
    "                after_my += [tokens[1], tokens[2]]\n",
    "        \n",
    "    if after_my==0:\n",
    "        outFile.write('\\'My\\' does not occur in the input\\n')\n",
    "    elif int(len(after_my)/2)>=10:\n",
    "        top_words = get_top_words(after_my, num_my, 10)\n",
    "    else:\n",
    "        top_words = get_top_words(after_my,num_my,int(len(after_my)/2))\n",
    "    \n",
    "    for i in range(0,int(len(top_words)/2)):\n",
    "        curr_word = top_words[2*i]\n",
    "        curr_prob = top_words[2*i+1]\n",
    "        outFile.write(f'{int(len(top_words)/2)-i}. {curr_word} - {curr_prob}\\n')\n",
    "        \n",
    "# TODO: Document...\n",
    "if __name__=='__main__':\n",
    "    main(argv[1],argv[2])"
   ]
  },
  {
   "cell_type": "code",
   "execution_count": 6,
   "metadata": {},
   "outputs": [],
   "source": [
    "!python top_words.py test_out/result.txt test_out/topWords.txt"
   ]
  }
 ],
 "metadata": {
  "interpreter": {
   "hash": "aee8b7b246df8f9039afb4144a1f6fd8d2ca17a180786b69acc140d282b71a49"
  },
  "kernelspec": {
   "display_name": "Python 3.9.7 64-bit",
   "language": "python",
   "name": "python3"
  },
  "language_info": {
   "codemirror_mode": {
    "name": "ipython",
    "version": 3
   },
   "file_extension": ".py",
   "mimetype": "text/x-python",
   "name": "python",
   "nbconvert_exporter": "python",
   "pygments_lexer": "ipython3",
   "version": "3.9.10"
  },
  "orig_nbformat": 4
 },
 "nbformat": 4,
 "nbformat_minor": 2
}
