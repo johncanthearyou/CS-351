{
 "cells": [
  {
   "cell_type": "code",
   "execution_count": 149,
   "metadata": {},
   "outputs": [
    {
     "name": "stdout",
     "output_type": "stream",
     "text": [
      "Overwriting count_words_bigrams.py\n"
     ]
    }
   ],
   "source": [
    "%%file count_words_bigrams.py\n",
    "# John Stockton\n",
    "# CS-351\n",
    "# Wang\n",
    "# Winter 2022\n",
    "\n",
    "from mrjob.job import MRJob\n",
    "\n",
    "# TODO: Document...\n",
    "class MRMostUsedWord(MRJob):\n",
    "\n",
    "    def mapper(self, _, line):\n",
    "        # Scrub the line for invalid characters\n",
    "        scrubbedLine = ''\n",
    "        for char in line: \n",
    "            if char.isalpha() or char.isspace():\n",
    "                scrubbedLine += char.upper()\n",
    "            else: \n",
    "                scrubbedLine += ' '\n",
    "        # Split our string into individual words\n",
    "        words = scrubbedLine.split()\n",
    "        finalIdx = len(words)-1\n",
    "        for i in range(len(words)-1):\n",
    "            yield words[i], 1              # yield the current word\n",
    "            yield (words[i],words[i+1]), 1 # yield current and next words\n",
    "        yield words[finalIdx], 1\n",
    "\n",
    "    def combiner(self, key, values):\n",
    "        yield key, sum(values)\n",
    "\n",
    "    def reducer(self, key, values):\n",
    "        yield key, sum(values)\n",
    "\n",
    "# TODO: Document...\n",
    "if __name__ == '__main__':\n",
    "    MRMostUsedWord.run()"
   ]
  },
  {
   "cell_type": "code",
   "execution_count": 150,
   "metadata": {},
   "outputs": [
    {
     "name": "stdout",
     "output_type": "stream",
     "text": [
      "Using configs in /Users/johnstocktoniv/.mrjob.conf\n",
      "No configs specified for inline runner\n",
      "Creating temp directory /var/folders/5s/hq_d6y217wb9tt3p5v4_25cw0000gn/T/conditional_word.johnstocktoniv.20220309.043920.012333\n",
      "Running step 1 of 1...\n",
      "reading from STDIN\n",
      "job output is in /var/folders/5s/hq_d6y217wb9tt3p5v4_25cw0000gn/T/conditional_word.johnstocktoniv.20220309.043920.012333/output\n",
      "Streaming final output from /var/folders/5s/hq_d6y217wb9tt3p5v4_25cw0000gn/T/conditional_word.johnstocktoniv.20220309.043920.012333/output...\n",
      "Removing temp directory /var/folders/5s/hq_d6y217wb9tt3p5v4_25cw0000gn/T/conditional_word.johnstocktoniv.20220309.043920.012333...\n"
     ]
    }
   ],
   "source": [
    "!python conditional_word.py < test.csv > test_out/result.txt"
   ]
  },
  {
   "cell_type": "code",
   "execution_count": 151,
   "metadata": {},
   "outputs": [
    {
     "name": "stdout",
     "output_type": "stream",
     "text": [
      "Overwriting cond_prob.py\n"
     ]
    }
   ],
   "source": [
    "%%file cond_prob.py\n",
    "# John Stockton\n",
    "# CS-351\n",
    "# Wang\n",
    "# Winter 2022\n",
    "\n",
    "from sys import argv\n",
    "import re\n",
    "\n",
    "# TODO: Document...\n",
    "class node:\n",
    "    def __init__(self,word=None,count=None,next=None):\n",
    "        self.word  = word\n",
    "        self.count = count\n",
    "        self.next  = next\n",
    "    def set_data(self,word,count):\n",
    "        self.word = word\n",
    "        self.count = count\n",
    "    def set_next(self,node):\n",
    "        self.next = node\n",
    "    def get_count(self,word):\n",
    "        curr = self\n",
    "        while curr.next!=None:\n",
    "            if word==curr.word:\n",
    "                return curr.count\n",
    "            curr = curr.next\n",
    "        return 0\n",
    "\n",
    "# TODO: Document...\n",
    "def main(inputName, outputName):\n",
    "    inFile = open(inputName, 'r')\n",
    "    outFile = open(outputName, 'w+')\n",
    "\n",
    "    lines = inFile.readlines()\n",
    "    words = []\n",
    "    bigrams = []\n",
    "    for line in lines:\n",
    "        tokens = re.findall('[a-zA-Z0-9]+', line)\n",
    "        if len(tokens)==2:\n",
    "            words += [tokens]\n",
    "        else:\n",
    "            bigrams += [tokens]\n",
    "\n",
    "    list = node()\n",
    "    curr = list\n",
    "    for word in words:\n",
    "        curr.set_data(word[0],int(word[1]))\n",
    "        curr.set_next(node())\n",
    "        curr = curr.next\n",
    "\n",
    "    for bigram in bigrams:\n",
    "        prob = int(bigram[2])/list.get_count(bigram[0])\n",
    "        prob = round(prob,3)\n",
    "        bigram = f\"P({bigram[1]} | {bigram[0]}) ~= {prob}\\n\"\n",
    "        outFile.write(bigram)\n",
    "        \n",
    "# TODO: Document...\n",
    "if __name__=='__main__':\n",
    "    main(argv[1],argv[2])"
   ]
  },
  {
   "cell_type": "code",
   "execution_count": 152,
   "metadata": {},
   "outputs": [],
   "source": [
    "!python cond_prob.py test_out/result.txt test_out/conditional.txt"
   ]
  },
  {
   "cell_type": "code",
   "execution_count": 153,
   "metadata": {},
   "outputs": [
    {
     "name": "stdout",
     "output_type": "stream",
     "text": [
      "Overwriting top_words.py\n"
     ]
    }
   ],
   "source": [
    "%%file top_words.py\n",
    "# John Stockton\n",
    "# CS-351\n",
    "# Wang\n",
    "# Winter 2022\n",
    "\n",
    "from sys import argv\n",
    "import re\n",
    "\n",
    "# TODO: Document...\n",
    "def main(inputName, outputName):\n",
    "    inFile = open(inputName, 'r')\n",
    "    outFile = open(outputName, 'w+')\n",
    "\n",
    "    lines = inFile.readlines()\n",
    "    num_my = 0\n",
    "    after_my = []\n",
    "    for line in lines:\n",
    "        tokens = re.findall('[a-zA-Z0-9]+', line)\n",
    "        if tokens[0]=='MY':\n",
    "            if len(tokens)==2:\n",
    "                num_my = int(tokens[1])\n",
    "            else:\n",
    "                after_my += [tokens[1], tokens[2]]\n",
    "        \n",
    "    if after_my==0:\n",
    "        outFile.write('\\'My\\' does not occur in the input\\n')\n",
    "    elif len(after_my)>10:\n",
    "        # TODO: find top 10\n",
    "        print()\n",
    "    else:\n",
    "        num_words = int(len(after_my)/2)\n",
    "        for i in range(0,num_words):\n",
    "            prob = int(after_my[2*i+1])/num_my\n",
    "            outFile.write(f'{num_words-i}. {after_my[2*i]}\\n')\n",
    "        \n",
    "# TODO: Document...\n",
    "if __name__=='__main__':\n",
    "    main(argv[1],argv[2])"
   ]
  },
  {
   "cell_type": "code",
   "execution_count": 154,
   "metadata": {},
   "outputs": [
    {
     "name": "stdout",
     "output_type": "stream",
     "text": [
      "Traceback (most recent call last):\n",
      "  File \"/Users/johnstocktoniv/SchoolDrive/JuniorII/CS-351/Work/HW3/top_words.py\", line 35, in <module>\n",
      "    main(argv[1],argv[2])\n",
      "  File \"/Users/johnstocktoniv/SchoolDrive/JuniorII/CS-351/Work/HW3/top_words.py\", line 23, in main\n",
      "    prob = int(tokens[2])/num_my\n",
      "ZeroDivisionError: division by zero\n"
     ]
    }
   ],
   "source": [
    "!python top_words.py test_out/result.txt test_out/topWords.txt"
   ]
  }
 ],
 "metadata": {
  "interpreter": {
   "hash": "aee8b7b246df8f9039afb4144a1f6fd8d2ca17a180786b69acc140d282b71a49"
  },
  "kernelspec": {
   "display_name": "Python 3.9.7 64-bit",
   "language": "python",
   "name": "python3"
  },
  "language_info": {
   "codemirror_mode": {
    "name": "ipython",
    "version": 3
   },
   "file_extension": ".py",
   "mimetype": "text/x-python",
   "name": "python",
   "nbconvert_exporter": "python",
   "pygments_lexer": "ipython3",
   "version": "3.9.10"
  },
  "orig_nbformat": 4
 },
 "nbformat": 4,
 "nbformat_minor": 2
}
